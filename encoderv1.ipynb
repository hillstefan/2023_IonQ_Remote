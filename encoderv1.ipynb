{
 "cells": [
  {
   "cell_type": "code",
   "execution_count": 1,
   "id": "9c97e0dc",
   "metadata": {},
   "outputs": [],
   "source": [
    "import cirq\n",
    "import numpy as np\n",
    "import pickle\n",
    "import json\n",
    "import os\n",
    "from collections import Counter\n",
    "from sklearn.metrics import mean_squared_error\n",
    "\n",
    "\n",
    "import matplotlib.pyplot as plt\n",
    "\n",
    "#define utility functions\n",
    "\n",
    "def simulate(circuit: cirq.Circuit) -> dict:\n",
    "    \"\"\"This funcion simulate a cirq circuit (without measurement) and output results in the format of histogram.\n",
    "    \"\"\"\n",
    "    simulator = cirq.Simulator()\n",
    "    result = simulator.simulate(circuit)\n",
    "    \n",
    "    state_vector=result.final_state_vector\n",
    "    histogram = dict()\n",
    "    for i in range(len(state_vector)):\n",
    "        population = abs(state_vector[i])**2\n",
    "        #if population > 1e-9:\n",
    "        histogram[i] = population\n",
    "    \n",
    "    return histogram\n",
    "\n",
    "\n",
    "def histogram_to_category(histogram):\n",
    "    \"\"\"This function take a histogram representations of circuit execution results, and process into labels as described in \n",
    "    the problem description.\"\"\"\n",
    "    assert abs(sum(histogram.values())-1)<1e-8\n",
    "    positive=0\n",
    "    for key in histogram.keys():\n",
    "        digits = bin(int(key))[2:].zfill(20)\n",
    "        positive+=histogram[key] #no if statement anymore\n",
    "    return positive\n",
    "\n",
    "def count_gates(circuit: cirq.Circuit):\n",
    "    \"\"\"Returns the number of 1-qubit gates, number of 2-qubit gates, number of 3-qubit gates....\"\"\"\n",
    "    counter=Counter([len(op.qubits) for op in circuit.all_operations()])\n",
    "    \n",
    "    #feel free to comment out the following two lines. But make sure you don't have k-qubit gates in your circuit\n",
    "    #for k>2\n",
    "    for i in range(2,20):\n",
    "        assert counter[i]==0\n",
    "        \n",
    "    return counter\n",
    "\n",
    "def image_mse(image1,image2):\n",
    "    # Using sklearns mean squared error:\n",
    "    # https://scikit-learn.org/stable/modules/generated/sklearn.metrics.mean_squared_error.html\n",
    "    return mean_squared_error(image1, image2)\n"
   ]
  },
  {
   "cell_type": "code",
   "execution_count": 2,
   "id": "7f19ddcc",
   "metadata": {},
   "outputs": [],
   "source": [
    "#load the mock data (for testing only)\n",
    "files=os.listdir(\"mock_data\")\n",
    "dataset=list()\n",
    "for file in files:\n",
    "    with open('mock_data/'+file, \"r\") as infile:\n",
    "        loaded = json.load(infile)\n",
    "        dataset.append(loaded)\n",
    "\n"
   ]
  },
  {
   "cell_type": "code",
   "execution_count": 3,
   "id": "a443b6a8",
   "metadata": {},
   "outputs": [
    {
     "name": "stdout",
     "output_type": "stream",
     "text": [
      "{False, True}\n",
      "2000\n",
      "2000\n",
      "True\n",
      "[0.         0.         0.         0.01960784 0.01960784 0.01960784\n",
      " 0.03529412 0.         0.29803922 0.76862745 0.80784314 0.82352941\n",
      " 0.83529412 0.83921569 0.84705882 0.83137255 0.97254902 0.95686275\n",
      " 0.78823529 0.77254902 0.78431373 0.21176471 0.         0.04705882\n",
      " 0.01960784 0.01960784 0.         0.        ]\n"
     ]
    },
    {
     "data": {
      "text/plain": [
       "<matplotlib.image.AxesImage at 0x7fc70e2c3460>"
      ]
     },
     "execution_count": 3,
     "metadata": {},
     "output_type": "execute_result"
    },
    {
     "data": {
      "image/png": "[encoded data removed]",
      "text/plain": [
       "<Figure size 432x288 with 1 Axes>"
      ]
     },
     "metadata": {
      "needs_background": "light"
     },
     "output_type": "display_data"
    }
   ],
   "source": [
    "#load the actual hackthon data (fashion-mnist)\n",
    "images=np.load('data/images.npy')\n",
    "labels=np.load('data/labels.npy')\n",
    "print(set(labels))\n",
    "print(len(labels))\n",
    "print(len(images))\n",
    "\n",
    "print(labels[80])\n",
    "print(images[1][25]*255)\n",
    "\n",
    "#you can visualize it\n",
    "import matplotlib.pyplot as plt\n",
    "plt.imshow(images[80])"
   ]
  },
  {
   "cell_type": "code",
   "execution_count": 4,
   "id": "cb2031cd",
   "metadata": {},
   "outputs": [],
   "source": [
    "#submission to part 1, you should make this into a .py file\n",
    "\n",
    "n=len(dataset)\n",
    "mse=0\n",
    "gatecount=0\n",
    "\n",
    "def encode(image):\n",
    "    circuit=cirq.Circuit()\n",
    "    epsilon = 0.1/255 #background is sometimes not exactly 0\n",
    "    \n",
    "    if len(image) < 28:\n",
    "        rows_to_check = [0, 1]\n",
    "        qubits = cirq.LineQubit.range(4)\n",
    "    else:\n",
    "        rows_to_check = [1, 7, 14, 21, 26] #rows we use to get info\n",
    "        qubits = cirq.LineQubit.range(2*len(rows_to_check))\n",
    "    \n",
    "    #test qubit\n",
    "    for row in rows_to_check:\n",
    "        for i in range(len(image[0])):\n",
    "            if image[row][i] >= epsilon:\n",
    "                circuit.append(cirq.rx(np.pi/len(image[0]))(qubits[rows_to_check.index(row)])) #should represent % non-background values for a row in rows_to_check (first |rows_to_check| qubits)\n",
    "                #check amount of \"segments\" (between 0 and 3) in each row in rows_to_check\n",
    "                if i == 0:\n",
    "                    circuit.append(cirq.rx(np.pi/3)(qubits[rows_to_check.index(row)+len(rows_to_check)])) #starts with non-background e.g. [[1,1],[1,1]]\n",
    "                else:\n",
    "                    if image[row][i-1] < epsilon:\n",
    "                        circuit.append(cirq.rx(np.pi/3)(rows_to_check.index(row)+len(rows_to_check)))\n",
    "    print(circuit)\n",
    "    return circuit\n",
    "\n",
    "def encode_old(image):\n",
    "    circuit=cirq.Circuit()\n",
    "    if image[0][0]==0:\n",
    "        circuit.append(cirq.rx(np.pi).on(cirq.LineQubit(0)))\n",
    "    return circuit\n",
    "\n",
    "\n",
    "def decode(histogram):\n",
    "    if 1 in histogram.keys():\n",
    "        image=[[0,0],[0,0]]\n",
    "    else:\n",
    "        image=[[1,1],[1,1]]\n",
    "    return image\n",
    "\n",
    "def run_part1(image):\n",
    "    #encode image into a circuit\n",
    "    circuit=encode(data['image'])\n",
    "\n",
    "    #simulate circuit\n",
    "    histogram=simulate(circuit)\n",
    "    print(\"Histogram:\")\n",
    "    print(histogram)\n",
    "\n",
    "    #reconstruct the image\n",
    "    image_re=decode(histogram)\n",
    "\n",
    "    return circuit,image_re\n",
    "\n",
    "import matplotlib.pyplot as plt\n",
    "\n"
   ]
  },
  {
   "cell_type": "code",
   "execution_count": 5,
   "id": "385faa44",
   "metadata": {},
   "outputs": [
    {
     "name": "stdout",
     "output_type": "stream",
     "text": [
      "{'image': [[1, 1], [1, 1]], 'category': 0}\n",
      "0: ───Rx(0.5π)─────Rx(0.5π)───\n",
      "\n",
      "1: ───Rx(0.5π)─────Rx(0.5π)───\n",
      "\n",
      "2: ───Rx(0.333π)──────────────\n",
      "\n",
      "3: ───Rx(0.333π)──────────────\n",
      "Histogram:\n",
      "{0: 0.0, 1: 0.0, 2: 0.0, 3: 0.0, 4: 0.0, 5: 0.0, 6: 0.0, 7: 0.0, 8: 0.0, 9: 0.0, 10: 0.0, 11: 0.0, 12: 0.5624998211860799, 13: 0.18749994165028117, 14: 0.18749994165028117, 15: 0.062499985098839694}\n",
      "{'image': [[0, 0], [0, 0]], 'category': 1}\n",
      "\n",
      "Histogram:\n",
      "{0: 1.0}\n",
      "\n",
      "Gatecount:  0.0\n",
      "\n",
      "Score part 1:  -1.0\n"
     ]
    }
   ],
   "source": [
    "#how we grade your submission\n",
    "\n",
    "n=len(dataset)\n",
    "mse=0\n",
    "gatecount=0\n",
    "\n",
    "for data in dataset:\n",
    "    print(data)\n",
    "    #encode image into circuit\n",
    "    circuit,image_re=run_part1(data['image'])\n",
    "    \n",
    "    \n",
    "    #count the number of 2qubit gates used\n",
    "    gatecount+=count_gates(circuit)[2]\n",
    "    \n",
    "    #calculate mse\n",
    "    mse+=image_mse(data['image'],image_re)\n",
    "    \n",
    "#fidelity of reconstruction\n",
    "f=1-mse\n",
    "gatecount=gatecount/n\n",
    "print()\n",
    "print(\"Gatecount: \", gatecount) #0 babyyyy\n",
    "\n",
    "#score for part1 \n",
    "print()\n",
    "print(\"Score part 1: \", f*(0.999**gatecount))"
   ]
  },
  {
   "cell_type": "code",
   "execution_count": null,
   "id": "ad7e81d7",
   "metadata": {},
   "outputs": [],
   "source": []
  },
  {
   "cell_type": "code",
   "execution_count": null,
   "id": "d344c8c3-f49d-4d63-8263-33e49834abe9",
   "metadata": {},
   "outputs": [],
   "source": []
  }
 ],
 "metadata": {
  "kernelspec": {
   "display_name": "Python 3 [Default]",
   "language": "python",
   "name": "python3"
  },
  "language_info": {
   "codemirror_mode": {
    "name": "ipython",
    "version": 3
   },
   "file_extension": ".py",
   "mimetype": "text/x-python",
   "name": "python",
   "nbconvert_exporter": "python",
   "pygments_lexer": "ipython3",
   "version": "3.9.10"
  }
 },
 "nbformat": 4,
 "nbformat_minor": 5
}
