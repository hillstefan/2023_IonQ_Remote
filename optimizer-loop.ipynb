{
 "cells": [
  {
   "cell_type": "code",
   "execution_count": 1,
   "id": "9a960820-40d9-43a5-be12-a7c5144f88a7",
   "metadata": {},
   "outputs": [],
   "source": [
    "from jax.config import config\n",
    "\n",
    "config.update(\"jax_enable_x64\", True)\n",
    "import jax\n",
    "import optax\n",
    "from jax import numpy as jnp"
   ]
  },
  {
   "cell_type": "code",
   "execution_count": 2,
   "id": "c92dd9b0-32b0-4a31-881f-329ec4c8422f",
   "metadata": {},
   "outputs": [],
   "source": [
    "import numpy as np"
   ]
  },
  {
   "cell_type": "code",
   "execution_count": 3,
   "id": "ada88c33-c52d-41e3-9517-776d501688ea",
   "metadata": {},
   "outputs": [],
   "source": [
    "X = np.load('data/images.npy')"
   ]
  },
  {
   "cell_type": "code",
   "execution_count": 4,
   "id": "7eb6e3fd-876b-4dcd-abd7-ee49b679a1ae",
   "metadata": {},
   "outputs": [],
   "source": [
    "y = np.load('data/labels.npy')"
   ]
  },
  {
   "cell_type": "code",
   "execution_count": 5,
   "id": "c261a387-d3ac-4b38-a60b-b19da950e5ce",
   "metadata": {},
   "outputs": [],
   "source": [
    "def variational_circuit(X, w):\n",
    "    return X * w"
   ]
  },
  {
   "cell_type": "code",
   "execution_count": 6,
   "id": "f76e758f-59c5-4090-ac43-7c3b0a28b244",
   "metadata": {},
   "outputs": [],
   "source": [
    "from utils.utils import image_mse\n",
    "\n",
    "def cost(X, w, y):\n",
    "    predictions = variational_circuit(X, w)\n",
    "    err_ = 0\n",
    "    for prediction_, y_ in list(zip(y, predictions)):\n",
    "        err_ += image_mse(prediction_, y_)\n",
    "    return err_"
   ]
  },
  {
   "cell_type": "code",
   "execution_count": null,
   "id": "d52f2521-eb0c-4fd7-ad8f-41a1b328226b",
   "metadata": {},
   "outputs": [],
   "source": [
    "optax.adam(learning_rate=0.05)"
   ]
  }
 ],
 "metadata": {
  "kernelspec": {
   "display_name": "Python 3 [Default]",
   "language": "python",
   "name": "python3"
  },
  "language_info": {
   "codemirror_mode": {
    "name": "ipython",
    "version": 3
   },
   "file_extension": ".py",
   "mimetype": "text/x-python",
   "name": "python",
   "nbconvert_exporter": "python",
   "pygments_lexer": "ipython3",
   "version": "3.9.10"
  }
 },
 "nbformat": 4,
 "nbformat_minor": 5
}
